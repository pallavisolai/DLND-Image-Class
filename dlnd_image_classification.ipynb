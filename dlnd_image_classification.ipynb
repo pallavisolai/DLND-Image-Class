{
 "cells": [
  {
   "cell_type": "markdown",
   "metadata": {
    "collapsed": true
   },
   "source": [
    "# Image Classification\n",
    "In this project, you'll classify images from the [CIFAR-10 dataset](https://www.cs.toronto.edu/~kriz/cifar.html).  The dataset consists of airplanes, dogs, cats, and other objects. You'll preprocess the images, then train a convolutional neural network on all the samples. The images need to be normalized and the labels need to be one-hot encoded.  You'll get to apply what you learned and build a convolutional, max pooling, dropout, and fully connected layers.  At the end, you'll get to see your neural network's predictions on the sample images.\n",
    "## Get the Data\n",
    "Run the following cell to download the [CIFAR-10 dataset for python](https://www.cs.toronto.edu/~kriz/cifar-10-python.tar.gz)."
   ]
  },
  {
   "cell_type": "code",
   "execution_count": 1,
   "metadata": {},
   "outputs": [
    {
     "name": "stdout",
     "output_type": "stream",
     "text": [
      "All files found!\n"
     ]
    }
   ],
   "source": [
    "\"\"\"\n",
    "DON'T MODIFY ANYTHING IN THIS CELL THAT IS BELOW THIS LINE\n",
    "\"\"\"\n",
    "from urllib.request import urlretrieve\n",
    "from os.path import isfile, isdir\n",
    "from tqdm import tqdm\n",
    "import problem_unittests as tests\n",
    "import tarfile\n",
    "\n",
    "cifar10_dataset_folder_path = 'cifar-10-batches-py'\n",
    "\n",
    "# Use Floyd's cifar-10 dataset if present\n",
    "floyd_cifar10_location = '/input/cifar-10/python.tar.gz'\n",
    "if isfile(floyd_cifar10_location):\n",
    "    tar_gz_path = floyd_cifar10_location\n",
    "else:\n",
    "    tar_gz_path = 'cifar-10-python.tar.gz'\n",
    "\n",
    "class DLProgress(tqdm):\n",
    "    last_block = 0\n",
    "\n",
    "    def hook(self, block_num=1, block_size=1, total_size=None):\n",
    "        self.total = total_size\n",
    "        self.update((block_num - self.last_block) * block_size)\n",
    "        self.last_block = block_num\n",
    "\n",
    "if not isfile(tar_gz_path):\n",
    "    with DLProgress(unit='B', unit_scale=True, miniters=1, desc='CIFAR-10 Dataset') as pbar:\n",
    "        urlretrieve(\n",
    "            'https://www.cs.toronto.edu/~kriz/cifar-10-python.tar.gz',\n",
    "            tar_gz_path,\n",
    "            pbar.hook)\n",
    "\n",
    "if not isdir(cifar10_dataset_folder_path):\n",
    "    with tarfile.open(tar_gz_path) as tar:\n",
    "        tar.extractall()\n",
    "        tar.close()\n",
    "\n",
    "\n",
    "tests.test_folder_path(cifar10_dataset_folder_path)"
   ]
  },
  {
   "cell_type": "markdown",
   "metadata": {},
   "source": [
    "## Explore the Data\n",
    "The dataset is broken into batches to prevent your machine from running out of memory.  The CIFAR-10 dataset consists of 5 batches, named `data_batch_1`, `data_batch_2`, etc.. Each batch contains the labels and images that are one of the following:\n",
    "* airplane\n",
    "* automobile\n",
    "* bird\n",
    "* cat\n",
    "* deer\n",
    "* dog\n",
    "* frog\n",
    "* horse\n",
    "* ship\n",
    "* truck\n",
    "\n",
    "Understanding a dataset is part of making predictions on the data.  Play around with the code cell below by changing the `batch_id` and `sample_id`. The `batch_id` is the id for a batch (1-5). The `sample_id` is the id for a image and label pair in the batch.\n",
    "\n",
    "Ask yourself \"What are all possible labels?\", \"What is the range of values for the image data?\", \"Are the labels in order or random?\".  Answers to questions like these will help you preprocess the data and end up with better predictions."
   ]
  },
  {
   "cell_type": "code",
   "execution_count": 3,
   "metadata": {},
   "outputs": [
    {
     "name": "stdout",
     "output_type": "stream",
     "text": [
      "\n",
      "Stats of batch 2:\n",
      "Samples: 10000\n",
      "Label Counts: {0: 984, 1: 1007, 2: 1010, 3: 995, 4: 1010, 5: 988, 6: 1008, 7: 1026, 8: 987, 9: 985}\n",
      "First 20 Labels: [1, 6, 6, 8, 8, 3, 4, 6, 0, 6, 0, 3, 6, 6, 5, 4, 8, 3, 2, 6]\n",
      "\n",
      "Example of Image 5:\n",
      "Image - Min Value: 3 Max Value: 219\n",
      "Image - Shape: (32, 32, 3)\n",
      "Label - Label Id: 3 Name: cat\n"
     ]
    },
    {
     "data": {
      "image/png": "[encoded data removed]",
      "text/plain": [
       "<matplotlib.figure.Figure at 0x7f19c403be48>"
      ]
     },
     "metadata": {
      "image/png": {
       "height": 250,
       "width": 253
      }
     },
     "output_type": "display_data"
    }
   ],
   "source": [
    "%matplotlib inline\n",
    "%config InlineBackend.figure_format = 'retina'\n",
    "\n",
    "import helper\n",
    "import numpy as np\n",
    "\n",
    "# Explore the dataset\n",
    "batch_id = 2\n",
    "sample_id = 5\n",
    "helper.display_stats(cifar10_dataset_folder_path, batch_id, sample_id)"
   ]
  },
  {
   "cell_type": "markdown",
   "metadata": {},
   "source": [
    "## Implement Preprocess Functions\n",
    "### Normalize\n",
    "In the cell below, implement the `normalize` function to take in image data, `x`, and return it as a normalized Numpy array. The values should be in the range of 0 to 1, inclusive.  The return object should be the same shape as `x`."
   ]
  },
  {
   "cell_type": "code",
   "execution_count": 7,
   "metadata": {},
   "outputs": [
    {
     "name": "stdout",
     "output_type": "stream",
     "text": [
      "Tests Passed\n"
     ]
    }
   ],
   "source": [
    "def normalize(x):\n",
    "    \"\"\"\n",
    "    Normalize a list of sample image data in the range of 0 to 1\n",
    "    : x: List of image data.  The image shape is (32, 32, 3)\n",
    "    : return: Numpy array of normalize data\n",
    "    \"\"\"\n",
    "    # TODO: Implement Function\n",
    "    return x/255\n",
    "\n",
    "\n",
    "\"\"\"\n",
    "DON'T MODIFY ANYTHING IN THIS CELL THAT IS BELOW THIS LINE\n",
    "\"\"\"\n",
    "tests.test_normalize(normalize)"
   ]
  },
  {
   "cell_type": "markdown",
   "metadata": {},
   "source": [
    "### One-hot encode\n",
    "Just like the previous code cell, you'll be implementing a function for preprocessing.  This time, you'll implement the `one_hot_encode` function. The input, `x`, are a list of labels.  Implement the function to return the list of labels as One-Hot encoded Numpy array.  The possible values for labels are 0 to 9. The one-hot encoding function should return the same encoding for each value between each call to `one_hot_encode`.  Make sure to save the map of encodings outside the function.\n",
    "\n",
    "Hint: Don't reinvent the wheel."
   ]
  },
  {
   "cell_type": "code",
   "execution_count": 21,
   "metadata": {},
   "outputs": [
    {
     "name": "stdout",
     "output_type": "stream",
     "text": [
      "Tests Passed\n"
     ]
    }
   ],
   "source": [
    "def one_hot_encode(x):\n",
    "    \"\"\"\n",
    "    One hot encode a list of sample labels. Return a one-hot encoded vector for each label.\n",
    "    : x: List of sample Labels\n",
    "    : return: Numpy array of one-hot encoded labels\n",
    "    \"\"\"\n",
    "    # TODO: Implement Function\n",
    "    \n",
    "    # using OneHotEncoder function from sklearn.preprocessing \n",
    "    \n",
    "    n_values = 10\n",
    "    from sklearn.preprocessing import OneHotEncoder\n",
    "    encode = OneHotEncoder(n_values=n_values)    \n",
    "    encode_labels = encode.fit_transform(np.array(x).reshape(-1, 1)).toarray()\n",
    "    \n",
    "    return encode_labels\n",
    "\n",
    "\"\"\"\n",
    "DON'T MODIFY ANYTHING IN THIS CELL THAT IS BELOW THIS LINE\n",
    "\"\"\"\n",
    "tests.test_one_hot_encode(one_hot_encode)"
   ]
  },
  {
   "cell_type": "markdown",
   "metadata": {},
   "source": [
    "### Randomize Data\n",
    "As you saw from exploring the data above, the order of the samples are randomized.  It doesn't hurt to randomize it again, but you don't need to for this dataset."
   ]
  },
  {
   "cell_type": "markdown",
   "metadata": {},
   "source": [
    "## Preprocess all the data and save it\n",
    "Running the code cell below will preprocess all the CIFAR-10 data and save it to file. The code below also uses 10% of the training data for validation."
   ]
  },
  {
   "cell_type": "code",
   "execution_count": 23,
   "metadata": {
    "collapsed": true
   },
   "outputs": [],
   "source": [
    "\"\"\"\n",
    "DON'T MODIFY ANYTHING IN THIS CELL\n",
    "\"\"\"\n",
    "# Preprocess Training, Validation, and Testing Data\n",
    "helper.preprocess_and_save_data(cifar10_dataset_folder_path, normalize, one_hot_encode)"
   ]
  },
  {
   "cell_type": "markdown",
   "metadata": {},
   "source": [
    "# Check Point\n",
    "This is your first checkpoint.  If you ever decide to come back to this notebook or have to restart the notebook, you can start from here.  The preprocessed data has been saved to disk."
   ]
  },
  {
   "cell_type": "code",
   "execution_count": 24,
   "metadata": {
    "collapsed": true
   },
   "outputs": [],
   "source": [
    "\"\"\"\n",
    "DON'T MODIFY ANYTHING IN THIS CELL\n",
    "\"\"\"\n",
    "import pickle\n",
    "import problem_unittests as tests\n",
    "import helper\n",
    "\n",
    "# Load the Preprocessed Validation data\n",
    "valid_features, valid_labels = pickle.load(open('preprocess_validation.p', mode='rb'))"
   ]
  },
  {
   "cell_type": "markdown",
   "metadata": {},
   "source": [
    "## Build the network\n",
    "For the neural network, you'll build each layer into a function.  Most of the code you've seen has been outside of functions. To test your code more thoroughly, we require that you put each layer in a function.  This allows us to give you better feedback and test for simple mistakes using our unittests before you submit your project.\n",
    "\n",
    ">**Note:** If you're finding it hard to dedicate enough time for this course each week, we've provided a small shortcut to this part of the project. In the next couple of problems, you'll have the option to use classes from the [TensorFlow Layers](https://www.tensorflow.org/api_docs/python/tf/layers) or [TensorFlow Layers (contrib)](https://www.tensorflow.org/api_guides/python/contrib.layers) packages to build each layer, except the layers you build in the \"Convolutional and Max Pooling Layer\" section.  TF Layers is similar to Keras's and TFLearn's abstraction to layers, so it's easy to pickup.\n",
    "\n",
    ">However, if you would like to get the most out of this course, try to solve all the problems _without_ using anything from the TF Layers packages. You **can** still use classes from other packages that happen to have the same name as ones you find in TF Layers! For example, instead of using the TF Layers version of the `conv2d` class, [tf.layers.conv2d](https://www.tensorflow.org/api_docs/python/tf/layers/conv2d), you would want to use the TF Neural Network version of `conv2d`, [tf.nn.conv2d](https://www.tensorflow.org/api_docs/python/tf/nn/conv2d). \n",
    "\n",
    "Let's begin!\n",
    "\n",
    "### Input\n",
    "The neural network needs to read the image data, one-hot encoded labels, and dropout keep probability. Implement the following functions\n",
    "* Implement `neural_net_image_input`\n",
    " * Return a [TF Placeholder](https://www.tensorflow.org/api_docs/python/tf/placeholder)\n",
    " * Set the shape using `image_shape` with batch size set to `None`.\n",
    " * Name the TensorFlow placeholder \"x\" using the TensorFlow `name` parameter in the [TF Placeholder](https://www.tensorflow.org/api_docs/python/tf/placeholder).\n",
    "* Implement `neural_net_label_input`\n",
    " * Return a [TF Placeholder](https://www.tensorflow.org/api_docs/python/tf/placeholder)\n",
    " * Set the shape using `n_classes` with batch size set to `None`.\n",
    " * Name the TensorFlow placeholder \"y\" using the TensorFlow `name` parameter in the [TF Placeholder](https://www.tensorflow.org/api_docs/python/tf/placeholder).\n",
    "* Implement `neural_net_keep_prob_input`\n",
    " * Return a [TF Placeholder](https://www.tensorflow.org/api_docs/python/tf/placeholder) for dropout keep probability.\n",
    " * Name the TensorFlow placeholder \"keep_prob\" using the TensorFlow `name` parameter in the [TF Placeholder](https://www.tensorflow.org/api_docs/python/tf/placeholder).\n",
    "\n",
    "These names will be used at the end of the project to load your saved model.\n",
    "\n",
    "Note: `None` for shapes in TensorFlow allow for a dynamic size."
   ]
  },
  {
   "cell_type": "code",
   "execution_count": 26,
   "metadata": {},
   "outputs": [
    {
     "name": "stdout",
     "output_type": "stream",
     "text": [
      "Image Input Tests Passed.\n",
      "Label Input Tests Passed.\n",
      "Keep Prob Tests Passed.\n"
     ]
    }
   ],
   "source": [
    "import tensorflow as tf\n",
    "\n",
    "def neural_net_image_input(image_shape):\n",
    "    \"\"\"\n",
    "    Return a Tensor for a batch of image input\n",
    "    : image_shape: Shape of the images\n",
    "    : return: Tensor for image input.\n",
    "    \"\"\"\n",
    "    # TODO: Implement Function\n",
    "    return tf.placeholder(tf.float32, shape=((None,) + image_shape), name = 'x')\n",
    "\n",
    "\n",
    "def neural_net_label_input(n_classes):\n",
    "    \"\"\"\n",
    "    Return a Tensor for a batch of label input\n",
    "    : n_classes: Number of classes\n",
    "    : return: Tensor for label input.\n",
    "    \"\"\"\n",
    "    # TODO: Implement Function\n",
    "    return tf.placeholder(tf.float32, shape = (None, n_classes), name = 'y')\n",
    "\n",
    "\n",
    "def neural_net_keep_prob_input():\n",
    "    \"\"\"\n",
    "    Return a Tensor for keep probability\n",
    "    : return: Tensor for keep probability.\n",
    "    \"\"\"\n",
    "    # TODO: Implement Function\n",
    "    return tf.placeholder(tf.float32, name = 'keep_prob')\n",
    "\n",
    "\n",
    "\"\"\"\n",
    "DON'T MODIFY ANYTHING IN THIS CELL THAT IS BELOW THIS LINE\n",
    "\"\"\"\n",
    "tf.reset_default_graph()\n",
    "tests.test_nn_image_inputs(neural_net_image_input)\n",
    "tests.test_nn_label_inputs(neural_net_label_input)\n",
    "tests.test_nn_keep_prob_inputs(neural_net_keep_prob_input)"
   ]
  },
  {
   "cell_type": "markdown",
   "metadata": {},
   "source": [
    "### Convolution and Max Pooling Layer\n",
    "Convolution layers have a lot of success with images. For this code cell, you should implement the function `conv2d_maxpool` to apply convolution then max pooling:\n",
    "* Create the weight and bias using `conv_ksize`, `conv_num_outputs` and the shape of `x_tensor`.\n",
    "* Apply a convolution to `x_tensor` using weight and `conv_strides`.\n",
    " * We recommend you use same padding, but you're welcome to use any padding.\n",
    "* Add bias\n",
    "* Add a nonlinear activation to the convolution.\n",
    "* Apply Max Pooling using `pool_ksize` and `pool_strides`.\n",
    " * We recommend you use same padding, but you're welcome to use any padding.\n",
    "\n",
    "**Note:** You **can't** use [TensorFlow Layers](https://www.tensorflow.org/api_docs/python/tf/layers) or [TensorFlow Layers (contrib)](https://www.tensorflow.org/api_guides/python/contrib.layers) for **this** layer, but you can still use TensorFlow's [Neural Network](https://www.tensorflow.org/api_docs/python/tf/nn) package. You may still use the shortcut option for all the **other** layers."
   ]
  },
  {
   "cell_type": "code",
   "execution_count": 58,
   "metadata": {},
   "outputs": [
    {
     "name": "stdout",
     "output_type": "stream",
     "text": [
      "Tests Passed\n"
     ]
    }
   ],
   "source": [
    "def conv2d_maxpool(x_tensor, conv_num_outputs, conv_ksize, conv_strides, pool_ksize, pool_strides):\n",
    "    \"\"\"\n",
    "    Apply convolution then max pooling to x_tensor\n",
    "    :param x_tensor: TensorFlow Tensor\n",
    "    :param conv_num_outputs: Number of outputs for the convolutional layer\n",
    "    :param conv_ksize: kernal size 2-D Tuple for the convolutional layer\n",
    "    :param conv_strides: Stride 2-D Tuple for convolution\n",
    "    :param pool_ksize: kernal size 2-D Tuple for pool\n",
    "    :param pool_strides: Stride 2-D Tuple for pool\n",
    "    : return: A tensor that represents convolution and max pooling of x_tensor\n",
    "    \"\"\"\n",
    "    # TODO: Implement Function\n",
    "    input_depth = x_tensor.shape[3].value\n",
    "    filter_weights = tf.Variable(tf.truncated_normal((*conv_ksize, input_depth, conv_num_outputs), stddev=.1))\n",
    "    filter_bias = tf.Variable(tf.zeros(conv_num_outputs), trainable=True)\n",
    "    \n",
    "    conv_layer = tf.nn.conv2d(x_tensor, filter_weights, [1, *conv_strides, 1], 'SAME')\n",
    "    conv_layer = tf.nn.bias_add(conv_layer, filter_bias)\n",
    "    conv_layer = tf.nn.relu(conv_layer)\n",
    "                                \n",
    "    return tf.nn.max_pool(conv_layer, [1, *pool_ksize, 1], [1, *pool_strides, 1], 'SAME') \n",
    "\n",
    "\n",
    "\"\"\"\n",
    "DON'T MODIFY ANYTHING IN THIS CELL THAT IS BELOW THIS LINE\n",
    "\"\"\"\n",
    "tests.test_con_pool(conv2d_maxpool)"
   ]
  },
  {
   "cell_type": "markdown",
   "metadata": {},
   "source": [
    "### Flatten Layer\n",
    "Implement the `flatten` function to change the dimension of `x_tensor` from a 4-D tensor to a 2-D tensor.  The output should be the shape (*Batch Size*, *Flattened Image Size*). Shortcut option: you can use classes from the [TensorFlow Layers](https://www.tensorflow.org/api_docs/python/tf/layers) or [TensorFlow Layers (contrib)](https://www.tensorflow.org/api_guides/python/contrib.layers) packages for this layer. For more of a challenge, only use other TensorFlow packages."
   ]
  },
  {
   "cell_type": "code",
   "execution_count": 59,
   "metadata": {},
   "outputs": [
    {
     "name": "stdout",
     "output_type": "stream",
     "text": [
      "Tests Passed\n"
     ]
    }
   ],
   "source": [
    "def flatten(x_tensor):\n",
    "    \"\"\"\n",
    "    Flatten x_tensor to (Batch Size, Flattened Image Size)\n",
    "    : x_tensor: A tensor of size (Batch Size, ...), where ... are the image dimensions.\n",
    "    : return: A tensor of size (Batch Size, Flattened Image Size).\n",
    "    \"\"\"\n",
    "    # TODO: Implement Function\n",
    "    width = x_tensor.shape[1].value\n",
    "    height = x_tensor.shape[2].value\n",
    "    depth = x_tensor.shape[3].value\n",
    "    \n",
    "    return tf.reshape(x_tensor, [-1, width* height * depth])\n",
    "\n",
    "\n",
    "\"\"\"\n",
    "DON'T MODIFY ANYTHING IN THIS CELL THAT IS BELOW THIS LINE\n",
    "\"\"\"\n",
    "tests.test_flatten(flatten)"
   ]
  },
  {
   "cell_type": "markdown",
   "metadata": {},
   "source": [
    "### Fully-Connected Layer\n",
    "Implement the `fully_conn` function to apply a fully connected layer to `x_tensor` with the shape (*Batch Size*, *num_outputs*). Shortcut option: you can use classes from the [TensorFlow Layers](https://www.tensorflow.org/api_docs/python/tf/layers) or [TensorFlow Layers (contrib)](https://www.tensorflow.org/api_guides/python/contrib.layers) packages for this layer. For more of a challenge, only use other TensorFlow packages."
   ]
  },
  {
   "cell_type": "code",
   "execution_count": 70,
   "metadata": {},
   "outputs": [
    {
     "name": "stdout",
     "output_type": "stream",
     "text": [
      "Tests Passed\n"
     ]
    }
   ],
   "source": [
    "def fully_conn(x_tensor, num_outputs):\n",
    "    \"\"\"\n",
    "    Apply a fully connected layer to x_tensor using weight and bias\n",
    "    : x_tensor: A 2-D tensor where the first dimension is batch size.\n",
    "    : num_outputs: The number of output that the new tensor should be.\n",
    "    : return: A 2-D tensor where the second dimension is num_outputs.\n",
    "    \"\"\"\n",
    "    # TODO: Implement Function\n",
    "    image_size = x_tensor.get_shape().as_list()[1]\n",
    "    weights = tf.Variable(tf.truncated_normal(([image_size, num_outputs]), stddev=.5))\n",
    "    bias = tf.Variable(tf.zeros(num_outputs))\n",
    "    fc = tf.add(tf.matmul(x_tensor, weights), bias)\n",
    "    fc = tf.nn.relu(fc)\n",
    "    return fc\n",
    "\n",
    "\n",
    "\"\"\"\n",
    "DON'T MODIFY ANYTHING IN THIS CELL THAT IS BELOW THIS LINE\n",
    "\"\"\"\n",
    "tests.test_fully_conn(fully_conn)"
   ]
  },
  {
   "cell_type": "markdown",
   "metadata": {},
   "source": [
    "### Output Layer\n",
    "Implement the `output` function to apply a fully connected layer to `x_tensor` with the shape (*Batch Size*, *num_outputs*). Shortcut option: you can use classes from the [TensorFlow Layers](https://www.tensorflow.org/api_docs/python/tf/layers) or [TensorFlow Layers (contrib)](https://www.tensorflow.org/api_guides/python/contrib.layers) packages for this layer. For more of a challenge, only use other TensorFlow packages.\n",
    "\n",
    "**Note:** Activation, softmax, or cross entropy should **not** be applied to this."
   ]
  },
  {
   "cell_type": "code",
   "execution_count": 71,
   "metadata": {},
   "outputs": [
    {
     "name": "stdout",
     "output_type": "stream",
     "text": [
      "Tests Passed\n"
     ]
    }
   ],
   "source": [
    "def output(x_tensor, num_outputs):\n",
    "    \"\"\"\n",
    "    Apply a output layer to x_tensor using weight and bias\n",
    "    : x_tensor: A 2-D tensor where the first dimension is batch size.\n",
    "    : num_outputs: The number of output that the new tensor should be.\n",
    "    : return: A 2-D tensor where the second dimension is num_outputs.\n",
    "    \"\"\"\n",
    "    # TODO: Implement Function\n",
    "    img_size = x_tensor.get_shape().as_list()[1]\n",
    "    weights = tf.Variable(tf.truncated_normal(([img_size, num_outputs]), stddev=.1))\n",
    "    bias = tf.Variable(tf.zeros(num_outputs))\n",
    "    out = tf.add(tf.matmul(x_tensor, weights), bias)\n",
    "    \n",
    "    return out\n",
    "\n",
    "\n",
    "\n",
    "\"\"\"\n",
    "DON'T MODIFY ANYTHING IN THIS CELL THAT IS BELOW THIS LINE\n",
    "\"\"\"\n",
    "tests.test_output(output)"
   ]
  },
  {
   "cell_type": "markdown",
   "metadata": {},
   "source": [
    "### Create Convolutional Model\n",
    "Implement the function `conv_net` to create a convolutional neural network model. The function takes in a batch of images, `x`, and outputs logits.  Use the layers you created above to create this model:\n",
    "\n",
    "* Apply 1, 2, or 3 Convolution and Max Pool layers\n",
    "* Apply a Flatten Layer\n",
    "* Apply 1, 2, or 3 Fully Connected Layers\n",
    "* Apply an Output Layer\n",
    "* Return the output\n",
    "* Apply [TensorFlow's Dropout](https://www.tensorflow.org/api_docs/python/tf/nn/dropout) to one or more layers in the model using `keep_prob`. "
   ]
  },
  {
   "cell_type": "code",
   "execution_count": 72,
   "metadata": {},
   "outputs": [
    {
     "name": "stdout",
     "output_type": "stream",
     "text": [
      "Neural Network Built!\n"
     ]
    }
   ],
   "source": [
    "def conv_net(x, keep_prob):\n",
    "    \"\"\"\n",
    "    Create a convolutional neural network model\n",
    "    : x: Placeholder tensor that holds image data.\n",
    "    : keep_prob: Placeholder tensor that hold dropout keep probability.\n",
    "    : return: Tensor that represents logits\n",
    "    \"\"\"\n",
    "    # TODO: Apply 1, 2, or 3 Convolution and Max Pool layers\n",
    "    #    Play around with different number of outputs, kernel size and stride\n",
    "    # Function Definition from Above:\n",
    "    #    conv2d_maxpool(x_tensor, conv_num_outputs, conv_ksize, conv_strides, pool_ksize, pool_strides)\n",
    "    \n",
    "    conv_num_outputs = [96, 64, 64]\n",
    "    conv_ksize = (3, 3)\n",
    "    conv_strides = (1, 1)\n",
    "    pool_ksize = (2,2)\n",
    "    pool_strides = (2,2)\n",
    "    \n",
    "    conv = conv2d_maxpool(x, conv_num_outputs[0], conv_ksize, conv_strides, pool_ksize, pool_strides)\n",
    "    conv = conv2d_maxpool(conv, conv_num_outputs[1], conv_ksize, conv_strides, pool_ksize, pool_strides)\n",
    "    conv = conv2d_maxpool(conv, conv_num_outputs[2], conv_ksize, conv_strides, pool_ksize, pool_strides)\n",
    "    \n",
    "\n",
    "    # TODO: Apply a Flatten Layer\n",
    "    # Function Definition from Above:\n",
    "    #   flatten(x_tensor)\n",
    "    fc = flatten(conv)\n",
    "    \n",
    "\n",
    "    # TODO: Apply 1, 2, or 3 Fully Connected Layers\n",
    "    #    Play around with different number of outputs\n",
    "    # Function Definition from Above:\n",
    "    #   fully_conn(x_tensor, num_outputs)\n",
    "    fc = fully_conn(fc, 128)\n",
    "    fc = tf.nn.dropout(fc, keep_prob)\n",
    "    \n",
    "    # TODO: Apply an Output Layer\n",
    "    #    Set this to the number of classes\n",
    "    # Function Definition from Above:\n",
    "    #   output(x_tensor, num_outputs)\n",
    "    num_outputs = 10\n",
    "    out = output(fc, num_outputs)\n",
    "    \n",
    "    \n",
    "    # TODO: return output\n",
    "    return out\n",
    "\n",
    "\n",
    "\"\"\"\n",
    "DON'T MODIFY ANYTHING IN THIS CELL THAT IS BELOW THIS LINE\n",
    "\"\"\"\n",
    "\n",
    "##############################\n",
    "## Build the Neural Network ##\n",
    "##############################\n",
    "\n",
    "# Remove previous weights, bias, inputs, etc..\n",
    "tf.reset_default_graph()\n",
    "\n",
    "# Inputs\n",
    "x = neural_net_image_input((32, 32, 3))\n",
    "y = neural_net_label_input(10)\n",
    "keep_prob = neural_net_keep_prob_input()\n",
    "\n",
    "# Model\n",
    "logits = conv_net(x, keep_prob)\n",
    "\n",
    "# Name logits Tensor, so that is can be loaded from disk after training\n",
    "logits = tf.identity(logits, name='logits')\n",
    "\n",
    "# Loss and Optimizer\n",
    "cost = tf.reduce_mean(tf.nn.softmax_cross_entropy_with_logits(logits=logits, labels=y))\n",
    "optimizer = tf.train.AdamOptimizer().minimize(cost)\n",
    "\n",
    "# Accuracy\n",
    "correct_pred = tf.equal(tf.argmax(logits, 1), tf.argmax(y, 1))\n",
    "accuracy = tf.reduce_mean(tf.cast(correct_pred, tf.float32), name='accuracy')\n",
    "\n",
    "tests.test_conv_net(conv_net)"
   ]
  },
  {
   "cell_type": "markdown",
   "metadata": {},
   "source": [
    "## Train the Neural Network\n",
    "### Single Optimization\n",
    "Implement the function `train_neural_network` to do a single optimization.  The optimization should use `optimizer` to optimize in `session` with a `feed_dict` of the following:\n",
    "* `x` for image input\n",
    "* `y` for labels\n",
    "* `keep_prob` for keep probability for dropout\n",
    "\n",
    "This function will be called for each batch, so `tf.global_variables_initializer()` has already been called.\n",
    "\n",
    "Note: Nothing needs to be returned. This function is only optimizing the neural network."
   ]
  },
  {
   "cell_type": "code",
   "execution_count": 73,
   "metadata": {},
   "outputs": [
    {
     "name": "stdout",
     "output_type": "stream",
     "text": [
      "Tests Passed\n"
     ]
    }
   ],
   "source": [
    "def train_neural_network(session, optimizer, keep_probability, feature_batch, label_batch):\n",
    "    \"\"\"\n",
    "    Optimize the session on a batch of images and labels\n",
    "    : session: Current TensorFlow session\n",
    "    : optimizer: TensorFlow optimizer function\n",
    "    : keep_probability: keep probability\n",
    "    : feature_batch: Batch of Numpy image data\n",
    "    : label_batch: Batch of Numpy label data\n",
    "    \"\"\"\n",
    "    # TODO: Implement Function\n",
    "    session.run(optimizer, feed_dict={x: feature_batch, y: label_batch, keep_prob: keep_probability})\n",
    "    pass\n",
    "\n",
    "\n",
    "\"\"\"\n",
    "DON'T MODIFY ANYTHING IN THIS CELL THAT IS BELOW THIS LINE\n",
    "\"\"\"\n",
    "tests.test_train_nn(train_neural_network)"
   ]
  },
  {
   "cell_type": "markdown",
   "metadata": {},
   "source": [
    "### Show Stats\n",
    "Implement the function `print_stats` to print loss and validation accuracy.  Use the global variables `valid_features` and `valid_labels` to calculate validation accuracy.  Use a keep probability of `1.0` to calculate the loss and validation accuracy."
   ]
  },
  {
   "cell_type": "code",
   "execution_count": 74,
   "metadata": {
    "collapsed": true
   },
   "outputs": [],
   "source": [
    "def print_stats(session, feature_batch, label_batch, cost, accuracy):\n",
    "    \"\"\"\n",
    "    Print information about loss and validation accuracy\n",
    "    : session: Current TensorFlow session\n",
    "    : feature_batch: Batch of Numpy image data\n",
    "    : label_batch: Batch of Numpy label data\n",
    "    : cost: TensorFlow cost function\n",
    "    : accuracy: TensorFlow accuracy function\n",
    "    \"\"\"\n",
    "    # TODO: Implement Function\n",
    "    loss = session.run(cost, feed_dict = {x: feature_batch, y: label_batch, keep_prob: 1.0})\n",
    "    valid_acc = session.run(accuracy, feed_dict = {x: valid_features, y: valid_labels, keep_prob: 1.0})\n",
    "    print('Loss: {} Validation Accuracy: {}'.format(loss, valid_acc))\n",
    "    "
   ]
  },
  {
   "cell_type": "markdown",
   "metadata": {},
   "source": [
    "### Hyperparameters\n",
    "Tune the following parameters:\n",
    "* Set `epochs` to the number of iterations until the network stops learning or start overfitting\n",
    "* Set `batch_size` to the highest number that your machine has memory for.  Most people set them to common sizes of memory:\n",
    " * 64\n",
    " * 128\n",
    " * 256\n",
    " * ...\n",
    "* Set `keep_probability` to the probability of keeping a node using dropout"
   ]
  },
  {
   "cell_type": "code",
   "execution_count": 84,
   "metadata": {
    "collapsed": true
   },
   "outputs": [],
   "source": [
    "# TODO: Tune Parameters\n",
    "epochs = 30\n",
    "batch_size = 260\n",
    "keep_probability = 0.5"
   ]
  },
  {
   "cell_type": "markdown",
   "metadata": {},
   "source": [
    "### Train on a Single CIFAR-10 Batch\n",
    "Instead of training the neural network on all the CIFAR-10 batches of data, let's use a single batch. This should save time while you iterate on the model to get a better accuracy.  Once the final validation accuracy is 50% or greater, run the model on all the data in the next section."
   ]
  },
  {
   "cell_type": "code",
   "execution_count": 85,
   "metadata": {},
   "outputs": [
    {
     "name": "stdout",
     "output_type": "stream",
     "text": [
      "Checking the Training on a Single Batch...\n",
      "Epoch  1, CIFAR-10 Batch 1:  Loss: 2.2018933296203613 Validation Accuracy: 0.20339998602867126\n",
      "Epoch  2, CIFAR-10 Batch 1:  Loss: 1.957821011543274 Validation Accuracy: 0.3211999833583832\n",
      "Epoch  3, CIFAR-10 Batch 1:  Loss: 1.8543202877044678 Validation Accuracy: 0.3775999844074249\n",
      "Epoch  4, CIFAR-10 Batch 1:  Loss: 1.753591537475586 Validation Accuracy: 0.39639997482299805\n",
      "Epoch  5, CIFAR-10 Batch 1:  Loss: 1.661015510559082 Validation Accuracy: 0.4229999780654907\n",
      "Epoch  6, CIFAR-10 Batch 1:  Loss: 1.6243420839309692 Validation Accuracy: 0.4301999807357788\n",
      "Epoch  7, CIFAR-10 Batch 1:  Loss: 1.5230540037155151 Validation Accuracy: 0.4423999786376953\n",
      "Epoch  8, CIFAR-10 Batch 1:  Loss: 1.4769132137298584 Validation Accuracy: 0.449599951505661\n",
      "Epoch  9, CIFAR-10 Batch 1:  Loss: 1.4135586023330688 Validation Accuracy: 0.46539998054504395\n",
      "Epoch 10, CIFAR-10 Batch 1:  Loss: 1.348239541053772 Validation Accuracy: 0.4795999526977539\n",
      "Epoch 11, CIFAR-10 Batch 1:  Loss: 1.3091503381729126 Validation Accuracy: 0.49379995465278625\n",
      "Epoch 12, CIFAR-10 Batch 1:  Loss: 1.2219390869140625 Validation Accuracy: 0.50819993019104\n",
      "Epoch 13, CIFAR-10 Batch 1:  Loss: 1.1804872751235962 Validation Accuracy: 0.509399950504303\n",
      "Epoch 14, CIFAR-10 Batch 1:  Loss: 1.1597038507461548 Validation Accuracy: 0.5117999315261841\n",
      "Epoch 15, CIFAR-10 Batch 1:  Loss: 1.1058050394058228 Validation Accuracy: 0.5239999294281006\n",
      "Epoch 16, CIFAR-10 Batch 1:  Loss: 1.0631219148635864 Validation Accuracy: 0.531999945640564\n",
      "Epoch 17, CIFAR-10 Batch 1:  Loss: 1.0379968881607056 Validation Accuracy: 0.5229999423027039\n",
      "Epoch 18, CIFAR-10 Batch 1:  Loss: 0.9729148149490356 Validation Accuracy: 0.55159991979599\n",
      "Epoch 19, CIFAR-10 Batch 1:  Loss: 0.9673481583595276 Validation Accuracy: 0.5501999855041504\n",
      "Epoch 20, CIFAR-10 Batch 1:  Loss: 0.9328565001487732 Validation Accuracy: 0.544999897480011\n",
      "Epoch 21, CIFAR-10 Batch 1:  Loss: 0.8818989992141724 Validation Accuracy: 0.549799919128418\n",
      "Epoch 22, CIFAR-10 Batch 1:  Loss: 0.8670972585678101 Validation Accuracy: 0.5559999346733093\n",
      "Epoch 23, CIFAR-10 Batch 1:  Loss: 0.8469319343566895 Validation Accuracy: 0.5527998805046082\n",
      "Epoch 24, CIFAR-10 Batch 1:  Loss: 0.797141969203949 Validation Accuracy: 0.5651999711990356\n",
      "Epoch 25, CIFAR-10 Batch 1:  Loss: 0.7539225816726685 Validation Accuracy: 0.5757999420166016\n",
      "Epoch 26, CIFAR-10 Batch 1:  Loss: 0.7849318981170654 Validation Accuracy: 0.5701999664306641\n",
      "Epoch 27, CIFAR-10 Batch 1:  Loss: 0.74835604429245 Validation Accuracy: 0.5859999060630798\n",
      "Epoch 28, CIFAR-10 Batch 1:  Loss: 0.6898140907287598 Validation Accuracy: 0.5849999189376831\n",
      "Epoch 29, CIFAR-10 Batch 1:  Loss: 0.6805597543716431 Validation Accuracy: 0.5769999027252197\n",
      "Epoch 30, CIFAR-10 Batch 1:  Loss: 0.6389976143836975 Validation Accuracy: 0.5759999752044678\n"
     ]
    }
   ],
   "source": [
    "\"\"\"\n",
    "DON'T MODIFY ANYTHING IN THIS CELL\n",
    "\"\"\"\n",
    "print('Checking the Training on a Single Batch...')\n",
    "with tf.Session() as sess:\n",
    "    # Initializing the variables\n",
    "    sess.run(tf.global_variables_initializer())\n",
    "    \n",
    "    # Training cycle\n",
    "    for epoch in range(epochs):\n",
    "        batch_i = 1\n",
    "        for batch_features, batch_labels in helper.load_preprocess_training_batch(batch_i, batch_size):\n",
    "            train_neural_network(sess, optimizer, keep_probability, batch_features, batch_labels)\n",
    "        print('Epoch {:>2}, CIFAR-10 Batch {}:  '.format(epoch + 1, batch_i), end='')\n",
    "        print_stats(sess, batch_features, batch_labels, cost, accuracy)"
   ]
  },
  {
   "cell_type": "markdown",
   "metadata": {},
   "source": [
    "### Fully Train the Model\n",
    "Now that you got a good accuracy with a single CIFAR-10 batch, try it with all five batches."
   ]
  },
  {
   "cell_type": "code",
   "execution_count": 86,
   "metadata": {},
   "outputs": [
    {
     "name": "stdout",
     "output_type": "stream",
     "text": [
      "Training...\n",
      "Epoch  1, CIFAR-10 Batch 1:  Loss: 2.191112518310547 Validation Accuracy: 0.20019999146461487\n",
      "Epoch  1, CIFAR-10 Batch 2:  Loss: 2.006629467010498 Validation Accuracy: 0.2947999835014343\n",
      "Epoch  1, CIFAR-10 Batch 3:  Loss: 1.788593053817749 Validation Accuracy: 0.3434000015258789\n",
      "Epoch  1, CIFAR-10 Batch 4:  Loss: 1.6984997987747192 Validation Accuracy: 0.3887999951839447\n",
      "Epoch  1, CIFAR-10 Batch 5:  Loss: 1.6003053188323975 Validation Accuracy: 0.40619999170303345\n",
      "Epoch  2, CIFAR-10 Batch 1:  Loss: 1.659733772277832 Validation Accuracy: 0.4325999319553375\n",
      "Epoch  2, CIFAR-10 Batch 2:  Loss: 1.496850848197937 Validation Accuracy: 0.4551999568939209\n",
      "Epoch  2, CIFAR-10 Batch 3:  Loss: 1.368821382522583 Validation Accuracy: 0.4521999657154083\n",
      "Epoch  2, CIFAR-10 Batch 4:  Loss: 1.3629775047302246 Validation Accuracy: 0.4943999648094177\n",
      "Epoch  2, CIFAR-10 Batch 5:  Loss: 1.3502885103225708 Validation Accuracy: 0.4909999668598175\n",
      "Epoch  3, CIFAR-10 Batch 1:  Loss: 1.441827416419983 Validation Accuracy: 0.507599949836731\n",
      "Epoch  3, CIFAR-10 Batch 2:  Loss: 1.2930994033813477 Validation Accuracy: 0.521399974822998\n",
      "Epoch  3, CIFAR-10 Batch 3:  Loss: 1.1508026123046875 Validation Accuracy: 0.5131999254226685\n",
      "Epoch  3, CIFAR-10 Batch 4:  Loss: 1.1893224716186523 Validation Accuracy: 0.5325999855995178\n",
      "Epoch  3, CIFAR-10 Batch 5:  Loss: 1.1989781856536865 Validation Accuracy: 0.5345999598503113\n",
      "Epoch  4, CIFAR-10 Batch 1:  Loss: 1.2853964567184448 Validation Accuracy: 0.5557999014854431\n",
      "Epoch  4, CIFAR-10 Batch 2:  Loss: 1.2012333869934082 Validation Accuracy: 0.5553998947143555\n",
      "Epoch  4, CIFAR-10 Batch 3:  Loss: 1.037639856338501 Validation Accuracy: 0.543199896812439\n",
      "Epoch  4, CIFAR-10 Batch 4:  Loss: 1.0587918758392334 Validation Accuracy: 0.5793999433517456\n",
      "Epoch  4, CIFAR-10 Batch 5:  Loss: 1.1004524230957031 Validation Accuracy: 0.5621999502182007\n",
      "Epoch  5, CIFAR-10 Batch 1:  Loss: 1.1729627847671509 Validation Accuracy: 0.5779999494552612\n",
      "Epoch  5, CIFAR-10 Batch 2:  Loss: 1.136023759841919 Validation Accuracy: 0.5773999691009521\n",
      "Epoch  5, CIFAR-10 Batch 3:  Loss: 0.9636169672012329 Validation Accuracy: 0.5657999515533447\n",
      "Epoch  5, CIFAR-10 Batch 4:  Loss: 0.9631403088569641 Validation Accuracy: 0.6089999079704285\n",
      "Epoch  5, CIFAR-10 Batch 5:  Loss: 0.958760142326355 Validation Accuracy: 0.5921999216079712\n",
      "Epoch  6, CIFAR-10 Batch 1:  Loss: 1.0126800537109375 Validation Accuracy: 0.5955999493598938\n",
      "Epoch  6, CIFAR-10 Batch 2:  Loss: 1.021996259689331 Validation Accuracy: 0.614599883556366\n",
      "Epoch  6, CIFAR-10 Batch 3:  Loss: 0.8444072008132935 Validation Accuracy: 0.602199912071228\n",
      "Epoch  6, CIFAR-10 Batch 4:  Loss: 0.8942731022834778 Validation Accuracy: 0.6253998875617981\n",
      "Epoch  6, CIFAR-10 Batch 5:  Loss: 0.8569815158843994 Validation Accuracy: 0.6183998584747314\n",
      "Epoch  7, CIFAR-10 Batch 1:  Loss: 0.9840432405471802 Validation Accuracy: 0.6149998903274536\n",
      "Epoch  7, CIFAR-10 Batch 2:  Loss: 0.959486186504364 Validation Accuracy: 0.6215999126434326\n",
      "Epoch  7, CIFAR-10 Batch 3:  Loss: 0.807736873626709 Validation Accuracy: 0.6333999633789062\n",
      "Epoch  7, CIFAR-10 Batch 4:  Loss: 0.8259162306785583 Validation Accuracy: 0.6251999139785767\n",
      "Epoch  7, CIFAR-10 Batch 5:  Loss: 0.8484370708465576 Validation Accuracy: 0.6285998821258545\n",
      "Epoch  8, CIFAR-10 Batch 1:  Loss: 0.9152247905731201 Validation Accuracy: 0.6439999341964722\n",
      "Epoch  8, CIFAR-10 Batch 2:  Loss: 0.9237642884254456 Validation Accuracy: 0.6535998582839966\n",
      "Epoch  8, CIFAR-10 Batch 3:  Loss: 0.735761821269989 Validation Accuracy: 0.652199923992157\n",
      "Epoch  8, CIFAR-10 Batch 4:  Loss: 0.7398090958595276 Validation Accuracy: 0.6517999172210693\n",
      "Epoch  8, CIFAR-10 Batch 5:  Loss: 0.7806746959686279 Validation Accuracy: 0.6493998765945435\n",
      "Epoch  9, CIFAR-10 Batch 1:  Loss: 0.8377715349197388 Validation Accuracy: 0.66159987449646\n",
      "Epoch  9, CIFAR-10 Batch 2:  Loss: 0.8260712027549744 Validation Accuracy: 0.6595999002456665\n",
      "Epoch  9, CIFAR-10 Batch 3:  Loss: 0.6998172998428345 Validation Accuracy: 0.6629998683929443\n",
      "Epoch  9, CIFAR-10 Batch 4:  Loss: 0.7204548716545105 Validation Accuracy: 0.6691998839378357\n",
      "Epoch  9, CIFAR-10 Batch 5:  Loss: 0.7314112186431885 Validation Accuracy: 0.6695998907089233\n",
      "Epoch 10, CIFAR-10 Batch 1:  Loss: 0.80757737159729 Validation Accuracy: 0.6731998920440674\n",
      "Epoch 10, CIFAR-10 Batch 2:  Loss: 0.8063529133796692 Validation Accuracy: 0.6693999171257019\n",
      "Epoch 10, CIFAR-10 Batch 3:  Loss: 0.6202503442764282 Validation Accuracy: 0.675399899482727\n",
      "Epoch 10, CIFAR-10 Batch 4:  Loss: 0.665507972240448 Validation Accuracy: 0.671799898147583\n",
      "Epoch 10, CIFAR-10 Batch 5:  Loss: 0.6928696632385254 Validation Accuracy: 0.6801999807357788\n",
      "Epoch 11, CIFAR-10 Batch 1:  Loss: 0.7302206754684448 Validation Accuracy: 0.672799825668335\n",
      "Epoch 11, CIFAR-10 Batch 2:  Loss: 0.749922513961792 Validation Accuracy: 0.6817999482154846\n",
      "Epoch 11, CIFAR-10 Batch 3:  Loss: 0.5891852378845215 Validation Accuracy: 0.6815997958183289\n",
      "Epoch 11, CIFAR-10 Batch 4:  Loss: 0.6651666760444641 Validation Accuracy: 0.684999942779541\n",
      "Epoch 11, CIFAR-10 Batch 5:  Loss: 0.6459769010543823 Validation Accuracy: 0.6725999116897583\n",
      "Epoch 12, CIFAR-10 Batch 1:  Loss: 0.7366657257080078 Validation Accuracy: 0.6663998365402222\n",
      "Epoch 12, CIFAR-10 Batch 2:  Loss: 0.6922802925109863 Validation Accuracy: 0.6891998648643494\n",
      "Epoch 12, CIFAR-10 Batch 3:  Loss: 0.5757650136947632 Validation Accuracy: 0.6949998736381531\n",
      "Epoch 12, CIFAR-10 Batch 4:  Loss: 0.585582971572876 Validation Accuracy: 0.6929998993873596\n",
      "Epoch 12, CIFAR-10 Batch 5:  Loss: 0.6178211569786072 Validation Accuracy: 0.6937998533248901\n",
      "Epoch 13, CIFAR-10 Batch 1:  Loss: 0.6775978803634644 Validation Accuracy: 0.6879998445510864\n",
      "Epoch 13, CIFAR-10 Batch 2:  Loss: 0.6916611194610596 Validation Accuracy: 0.6945998668670654\n",
      "Epoch 13, CIFAR-10 Batch 3:  Loss: 0.5768309235572815 Validation Accuracy: 0.6913999319076538\n",
      "Epoch 13, CIFAR-10 Batch 4:  Loss: 0.5874287486076355 Validation Accuracy: 0.6915999054908752\n",
      "Epoch 13, CIFAR-10 Batch 5:  Loss: 0.5668036937713623 Validation Accuracy: 0.692599892616272\n",
      "Epoch 14, CIFAR-10 Batch 1:  Loss: 0.6588365435600281 Validation Accuracy: 0.6903998851776123\n",
      "Epoch 14, CIFAR-10 Batch 2:  Loss: 0.6371073126792908 Validation Accuracy: 0.7025998830795288\n",
      "Epoch 14, CIFAR-10 Batch 3:  Loss: 0.5050645470619202 Validation Accuracy: 0.6993998885154724\n",
      "Epoch 14, CIFAR-10 Batch 4:  Loss: 0.5546214580535889 Validation Accuracy: 0.7113998532295227\n",
      "Epoch 14, CIFAR-10 Batch 5:  Loss: 0.5288124084472656 Validation Accuracy: 0.703799843788147\n",
      "Epoch 15, CIFAR-10 Batch 1:  Loss: 0.6453083157539368 Validation Accuracy: 0.6941998600959778\n",
      "Epoch 15, CIFAR-10 Batch 2:  Loss: 0.6183967590332031 Validation Accuracy: 0.7021999359130859\n",
      "Epoch 15, CIFAR-10 Batch 3:  Loss: 0.511444628238678 Validation Accuracy: 0.6899998784065247\n",
      "Epoch 15, CIFAR-10 Batch 4:  Loss: 0.5108731389045715 Validation Accuracy: 0.7075998783111572\n",
      "Epoch 15, CIFAR-10 Batch 5:  Loss: 0.5154677629470825 Validation Accuracy: 0.7165998220443726\n",
      "Epoch 16, CIFAR-10 Batch 1:  Loss: 0.5943199992179871 Validation Accuracy: 0.7047998905181885\n",
      "Epoch 16, CIFAR-10 Batch 2:  Loss: 0.6039627194404602 Validation Accuracy: 0.7127998471260071\n",
      "Epoch 16, CIFAR-10 Batch 3:  Loss: 0.4638960659503937 Validation Accuracy: 0.7137998342514038\n",
      "Epoch 16, CIFAR-10 Batch 4:  Loss: 0.5083712339401245 Validation Accuracy: 0.7097998857498169\n",
      "Epoch 16, CIFAR-10 Batch 5:  Loss: 0.5028104782104492 Validation Accuracy: 0.7109998464584351\n",
      "Epoch 17, CIFAR-10 Batch 1:  Loss: 0.589364767074585 Validation Accuracy: 0.7149998545646667\n",
      "Epoch 17, CIFAR-10 Batch 2:  Loss: 0.5818615555763245 Validation Accuracy: 0.7125998139381409\n",
      "Epoch 17, CIFAR-10 Batch 3:  Loss: 0.4294032156467438 Validation Accuracy: 0.7163999080657959\n",
      "Epoch 17, CIFAR-10 Batch 4:  Loss: 0.4715370237827301 Validation Accuracy: 0.7147998213768005\n",
      "Epoch 17, CIFAR-10 Batch 5:  Loss: 0.46315187215805054 Validation Accuracy: 0.7125998735427856\n",
      "Epoch 18, CIFAR-10 Batch 1:  Loss: 0.5208794474601746 Validation Accuracy: 0.7199998497962952\n",
      "Epoch 18, CIFAR-10 Batch 2:  Loss: 0.5490211248397827 Validation Accuracy: 0.7127997875213623\n",
      "Epoch 18, CIFAR-10 Batch 3:  Loss: 0.4097282290458679 Validation Accuracy: 0.7161998748779297\n"
     ]
    },
    {
     "name": "stdout",
     "output_type": "stream",
     "text": [
      "Epoch 18, CIFAR-10 Batch 4:  Loss: 0.46817928552627563 Validation Accuracy: 0.7151998281478882\n",
      "Epoch 18, CIFAR-10 Batch 5:  Loss: 0.45470765233039856 Validation Accuracy: 0.7133998274803162\n",
      "Epoch 19, CIFAR-10 Batch 1:  Loss: 0.5136258602142334 Validation Accuracy: 0.7247998714447021\n",
      "Epoch 19, CIFAR-10 Batch 2:  Loss: 0.5387611389160156 Validation Accuracy: 0.7125998735427856\n",
      "Epoch 19, CIFAR-10 Batch 3:  Loss: 0.35209524631500244 Validation Accuracy: 0.7249997854232788\n",
      "Epoch 19, CIFAR-10 Batch 4:  Loss: 0.3937857449054718 Validation Accuracy: 0.7235998511314392\n",
      "Epoch 19, CIFAR-10 Batch 5:  Loss: 0.4534088671207428 Validation Accuracy: 0.7233998775482178\n",
      "Epoch 20, CIFAR-10 Batch 1:  Loss: 0.515862226486206 Validation Accuracy: 0.7189998626708984\n",
      "Epoch 20, CIFAR-10 Batch 2:  Loss: 0.49740302562713623 Validation Accuracy: 0.7183998227119446\n",
      "Epoch 20, CIFAR-10 Batch 3:  Loss: 0.33097347617149353 Validation Accuracy: 0.731799840927124\n",
      "Epoch 20, CIFAR-10 Batch 4:  Loss: 0.43491679430007935 Validation Accuracy: 0.7203998565673828\n",
      "Epoch 20, CIFAR-10 Batch 5:  Loss: 0.4132404327392578 Validation Accuracy: 0.7307997941970825\n",
      "Epoch 21, CIFAR-10 Batch 1:  Loss: 0.5032591819763184 Validation Accuracy: 0.721599817276001\n",
      "Epoch 21, CIFAR-10 Batch 2:  Loss: 0.46933338046073914 Validation Accuracy: 0.710399866104126\n",
      "Epoch 21, CIFAR-10 Batch 3:  Loss: 0.30998146533966064 Validation Accuracy: 0.7385997772216797\n",
      "Epoch 21, CIFAR-10 Batch 4:  Loss: 0.405548095703125 Validation Accuracy: 0.722399890422821\n",
      "Epoch 21, CIFAR-10 Batch 5:  Loss: 0.3801649212837219 Validation Accuracy: 0.7245998978614807\n",
      "Epoch 22, CIFAR-10 Batch 1:  Loss: 0.4705336391925812 Validation Accuracy: 0.7255998849868774\n",
      "Epoch 22, CIFAR-10 Batch 2:  Loss: 0.4385566711425781 Validation Accuracy: 0.7163997888565063\n",
      "Epoch 22, CIFAR-10 Batch 3:  Loss: 0.3106575310230255 Validation Accuracy: 0.7371998429298401\n",
      "Epoch 22, CIFAR-10 Batch 4:  Loss: 0.3713889718055725 Validation Accuracy: 0.7261999249458313\n",
      "Epoch 22, CIFAR-10 Batch 5:  Loss: 0.3737083673477173 Validation Accuracy: 0.7293998599052429\n",
      "Epoch 23, CIFAR-10 Batch 1:  Loss: 0.4503785967826843 Validation Accuracy: 0.7203998565673828\n",
      "Epoch 23, CIFAR-10 Batch 2:  Loss: 0.432539701461792 Validation Accuracy: 0.7131999135017395\n",
      "Epoch 23, CIFAR-10 Batch 3:  Loss: 0.2765601873397827 Validation Accuracy: 0.7357998490333557\n",
      "Epoch 23, CIFAR-10 Batch 4:  Loss: 0.3745638132095337 Validation Accuracy: 0.7265998125076294\n",
      "Epoch 23, CIFAR-10 Batch 5:  Loss: 0.33871030807495117 Validation Accuracy: 0.7329998016357422\n",
      "Epoch 24, CIFAR-10 Batch 1:  Loss: 0.4469141960144043 Validation Accuracy: 0.7309998273849487\n",
      "Epoch 24, CIFAR-10 Batch 2:  Loss: 0.4182458519935608 Validation Accuracy: 0.7235997915267944\n",
      "Epoch 24, CIFAR-10 Batch 3:  Loss: 0.30232784152030945 Validation Accuracy: 0.7241998314857483\n",
      "Epoch 24, CIFAR-10 Batch 4:  Loss: 0.3542628586292267 Validation Accuracy: 0.723599910736084\n",
      "Epoch 24, CIFAR-10 Batch 5:  Loss: 0.3436780571937561 Validation Accuracy: 0.7403998374938965\n",
      "Epoch 25, CIFAR-10 Batch 1:  Loss: 0.4030408561229706 Validation Accuracy: 0.7223998308181763\n",
      "Epoch 25, CIFAR-10 Batch 2:  Loss: 0.39853888750076294 Validation Accuracy: 0.7007998824119568\n",
      "Epoch 25, CIFAR-10 Batch 3:  Loss: 0.27161309123039246 Validation Accuracy: 0.7319998145103455\n",
      "Epoch 25, CIFAR-10 Batch 4:  Loss: 0.3229024410247803 Validation Accuracy: 0.7287998199462891\n",
      "Epoch 25, CIFAR-10 Batch 5:  Loss: 0.32791972160339355 Validation Accuracy: 0.7367998361587524\n",
      "Epoch 26, CIFAR-10 Batch 1:  Loss: 0.37029755115509033 Validation Accuracy: 0.7307998538017273\n",
      "Epoch 26, CIFAR-10 Batch 2:  Loss: 0.3685275912284851 Validation Accuracy: 0.709199845790863\n",
      "Epoch 26, CIFAR-10 Batch 3:  Loss: 0.254331111907959 Validation Accuracy: 0.7321998476982117\n",
      "Epoch 26, CIFAR-10 Batch 4:  Loss: 0.3420625925064087 Validation Accuracy: 0.7259998321533203\n",
      "Epoch 26, CIFAR-10 Batch 5:  Loss: 0.3051483631134033 Validation Accuracy: 0.7325997948646545\n",
      "Epoch 27, CIFAR-10 Batch 1:  Loss: 0.3666955828666687 Validation Accuracy: 0.7351998686790466\n",
      "Epoch 27, CIFAR-10 Batch 2:  Loss: 0.3375985324382782 Validation Accuracy: 0.7219998836517334\n",
      "Epoch 27, CIFAR-10 Batch 3:  Loss: 0.24177226424217224 Validation Accuracy: 0.726999819278717\n",
      "Epoch 27, CIFAR-10 Batch 4:  Loss: 0.3135296404361725 Validation Accuracy: 0.7305998206138611\n",
      "Epoch 27, CIFAR-10 Batch 5:  Loss: 0.27793318033218384 Validation Accuracy: 0.7341998815536499\n",
      "Epoch 28, CIFAR-10 Batch 1:  Loss: 0.3594294786453247 Validation Accuracy: 0.7281998991966248\n",
      "Epoch 28, CIFAR-10 Batch 2:  Loss: 0.30956587195396423 Validation Accuracy: 0.7295998334884644\n",
      "Epoch 28, CIFAR-10 Batch 3:  Loss: 0.28119561076164246 Validation Accuracy: 0.7183998823165894\n",
      "Epoch 28, CIFAR-10 Batch 4:  Loss: 0.2839478552341461 Validation Accuracy: 0.7373998165130615\n",
      "Epoch 28, CIFAR-10 Batch 5:  Loss: 0.30889615416526794 Validation Accuracy: 0.7353998422622681\n",
      "Epoch 29, CIFAR-10 Batch 1:  Loss: 0.341336190700531 Validation Accuracy: 0.7193998694419861\n",
      "Epoch 29, CIFAR-10 Batch 2:  Loss: 0.3045656979084015 Validation Accuracy: 0.7313998937606812\n",
      "Epoch 29, CIFAR-10 Batch 3:  Loss: 0.22624905407428741 Validation Accuracy: 0.7241998910903931\n",
      "Epoch 29, CIFAR-10 Batch 4:  Loss: 0.267599493265152 Validation Accuracy: 0.7355998158454895\n",
      "Epoch 29, CIFAR-10 Batch 5:  Loss: 0.26819276809692383 Validation Accuracy: 0.7411998510360718\n",
      "Epoch 30, CIFAR-10 Batch 1:  Loss: 0.32350167632102966 Validation Accuracy: 0.7141999006271362\n",
      "Epoch 30, CIFAR-10 Batch 2:  Loss: 0.2946910858154297 Validation Accuracy: 0.7337998747825623\n",
      "Epoch 30, CIFAR-10 Batch 3:  Loss: 0.22959840297698975 Validation Accuracy: 0.7145999073982239\n",
      "Epoch 30, CIFAR-10 Batch 4:  Loss: 0.26422011852264404 Validation Accuracy: 0.7341998219490051\n",
      "Epoch 30, CIFAR-10 Batch 5:  Loss: 0.24912694096565247 Validation Accuracy: 0.7391998767852783\n"
     ]
    }
   ],
   "source": [
    "\"\"\"\n",
    "DON'T MODIFY ANYTHING IN THIS CELL\n",
    "\"\"\"\n",
    "save_model_path = './image_classification'\n",
    "\n",
    "print('Training...')\n",
    "with tf.Session() as sess:\n",
    "    # Initializing the variables\n",
    "    sess.run(tf.global_variables_initializer())\n",
    "    \n",
    "    # Training cycle\n",
    "    for epoch in range(epochs):\n",
    "        # Loop over all batches\n",
    "        n_batches = 5\n",
    "        for batch_i in range(1, n_batches + 1):\n",
    "            for batch_features, batch_labels in helper.load_preprocess_training_batch(batch_i, batch_size):\n",
    "                train_neural_network(sess, optimizer, keep_probability, batch_features, batch_labels)\n",
    "            print('Epoch {:>2}, CIFAR-10 Batch {}:  '.format(epoch + 1, batch_i), end='')\n",
    "            print_stats(sess, batch_features, batch_labels, cost, accuracy)\n",
    "            \n",
    "    # Save Model\n",
    "    saver = tf.train.Saver()\n",
    "    save_path = saver.save(sess, save_model_path)"
   ]
  },
  {
   "cell_type": "markdown",
   "metadata": {},
   "source": [
    "# Checkpoint\n",
    "The model has been saved to disk.\n",
    "## Test Model\n",
    "Test your model against the test dataset.  This will be your final accuracy. You should have an accuracy greater than 50%. If you don't, keep tweaking the model architecture and parameters."
   ]
  },
  {
   "cell_type": "code",
   "execution_count": 87,
   "metadata": {},
   "outputs": [
    {
     "name": "stdout",
     "output_type": "stream",
     "text": [
      "INFO:tensorflow:Restoring parameters from ./image_classification\n",
      "Testing Accuracy: 0.7339414938902243\n",
      "\n"
     ]
    },
    {
     "data": {
      "image/png": "[encoded data removed]",
      "text/plain": [
       "<matplotlib.figure.Figure at 0x7f196f7a4fd0>"
      ]
     },
     "metadata": {
      "image/png": {
       "height": 319,
       "width": 355
      }
     },
     "output_type": "display_data"
    }
   ],
   "source": [
    "\"\"\"\n",
    "DON'T MODIFY ANYTHING IN THIS CELL\n",
    "\"\"\"\n",
    "%matplotlib inline\n",
    "%config InlineBackend.figure_format = 'retina'\n",
    "\n",
    "import tensorflow as tf\n",
    "import pickle\n",
    "import helper\n",
    "import random\n",
    "\n",
    "# Set batch size if not already set\n",
    "try:\n",
    "    if batch_size:\n",
    "        pass\n",
    "except NameError:\n",
    "    batch_size = 64\n",
    "\n",
    "save_model_path = './image_classification'\n",
    "n_samples = 4\n",
    "top_n_predictions = 3\n",
    "\n",
    "def test_model():\n",
    "    \"\"\"\n",
    "    Test the saved model against the test dataset\n",
    "    \"\"\"\n",
    "\n",
    "    test_features, test_labels = pickle.load(open('preprocess_test.p', mode='rb'))\n",
    "    loaded_graph = tf.Graph()\n",
    "\n",
    "    with tf.Session(graph=loaded_graph) as sess:\n",
    "        # Load model\n",
    "        loader = tf.train.import_meta_graph(save_model_path + '.meta')\n",
    "        loader.restore(sess, save_model_path)\n",
    "\n",
    "        # Get Tensors from loaded model\n",
    "        loaded_x = loaded_graph.get_tensor_by_name('x:0')\n",
    "        loaded_y = loaded_graph.get_tensor_by_name('y:0')\n",
    "        loaded_keep_prob = loaded_graph.get_tensor_by_name('keep_prob:0')\n",
    "        loaded_logits = loaded_graph.get_tensor_by_name('logits:0')\n",
    "        loaded_acc = loaded_graph.get_tensor_by_name('accuracy:0')\n",
    "        \n",
    "        # Get accuracy in batches for memory limitations\n",
    "        test_batch_acc_total = 0\n",
    "        test_batch_count = 0\n",
    "        \n",
    "        for test_feature_batch, test_label_batch in helper.batch_features_labels(test_features, test_labels, batch_size):\n",
    "            test_batch_acc_total += sess.run(\n",
    "                loaded_acc,\n",
    "                feed_dict={loaded_x: test_feature_batch, loaded_y: test_label_batch, loaded_keep_prob: 1.0})\n",
    "            test_batch_count += 1\n",
    "\n",
    "        print('Testing Accuracy: {}\\n'.format(test_batch_acc_total/test_batch_count))\n",
    "\n",
    "        # Print Random Samples\n",
    "        random_test_features, random_test_labels = tuple(zip(*random.sample(list(zip(test_features, test_labels)), n_samples)))\n",
    "        random_test_predictions = sess.run(\n",
    "            tf.nn.top_k(tf.nn.softmax(loaded_logits), top_n_predictions),\n",
    "            feed_dict={loaded_x: random_test_features, loaded_y: random_test_labels, loaded_keep_prob: 1.0})\n",
    "        helper.display_image_predictions(random_test_features, random_test_labels, random_test_predictions)\n",
    "\n",
    "\n",
    "test_model()"
   ]
  },
  {
   "cell_type": "markdown",
   "metadata": {},
   "source": [
    "## Why 50-80% Accuracy?\n",
    "You might be wondering why you can't get an accuracy any higher. First things first, 50% isn't bad for a simple CNN.  Pure guessing would get you 10% accuracy. However, you might notice people are getting scores [well above 80%](http://rodrigob.github.io/are_we_there_yet/build/classification_datasets_results.html#43494641522d3130).  That's because we haven't taught you all there is to know about neural networks. We still need to cover a few more techniques.\n",
    "## Submitting This Project\n",
    "When submitting this project, make sure to run all the cells before saving the notebook.  Save the notebook file as \"dlnd_image_classification.ipynb\" and save it as a HTML file under \"File\" -> \"Download as\".  Include the \"helper.py\" and \"problem_unittests.py\" files in your submission."
   ]
  }
 ],
 "metadata": {
  "kernelspec": {
   "display_name": "Python 3",
   "language": "python",
   "name": "python3"
  },
  "language_info": {
   "codemirror_mode": {
    "name": "ipython",
    "version": 3
   },
   "file_extension": ".py",
   "mimetype": "text/x-python",
   "name": "python",
   "nbconvert_exporter": "python",
   "pygments_lexer": "ipython3",
   "version": "3.5.3"
  }
 },
 "nbformat": 4,
 "nbformat_minor": 1
}
